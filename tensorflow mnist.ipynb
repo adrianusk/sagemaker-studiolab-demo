{
 "cells": [
  {
   "cell_type": "markdown",
   "id": "937965c2-7de3-4de5-8ed3-2f57ac81f056",
   "metadata": {},
   "source": [
    "# Tensorflow Demo in Sagemaker Studio Lab"
   ]
  },
  {
   "cell_type": "markdown",
   "id": "539a923c-253e-4227-a2f9-ba846b62fbbe",
   "metadata": {},
   "source": [
    "[![Open In Studio Lab](https://studiolab.sagemaker.aws/studiolab.svg)](https://studiolab.sagemaker.aws/import/github/adrianusk/sagemaker-studiolab-demo/blob/master/tensorflow%20mnist.ipynb)\n",
    "\n",
    "This notebook works with tf-plt kernel.  \n",
    "First Lets import tensorflow and mnist dataset"
   ]
  },
  {
   "cell_type": "code",
   "execution_count": null,
   "id": "56db657f-0c87-4e38-91ee-68dc73f7f994",
   "metadata": {},
   "outputs": [],
   "source": [
    "import tensorflow as tf\n",
    "mnist = tf.keras.datasets.mnist"
   ]
  },
  {
   "cell_type": "markdown",
   "id": "90346a7d-1765-4463-bc19-c4148bd258fe",
   "metadata": {},
   "source": [
    "Load training and test data"
   ]
  },
  {
   "cell_type": "code",
   "execution_count": null,
   "id": "14b6e0bd-8c3f-4ec4-a00b-31993286fedc",
   "metadata": {},
   "outputs": [],
   "source": [
    "(x_train, y_train),(x_test, y_test) = mnist.load_data()\n",
    "x_train, x_test = x_train / 255.0, x_test / 255.0"
   ]
  },
  {
   "cell_type": "markdown",
   "id": "86ec3731-ef2b-4ad8-9209-6ead3574d2c7",
   "metadata": {},
   "source": [
    "Import plotting library to show the image"
   ]
  },
  {
   "cell_type": "code",
   "execution_count": null,
   "id": "5d6e7675-1b99-424e-b0b3-8a212430bd8d",
   "metadata": {},
   "outputs": [],
   "source": [
    "import matplotlib.pyplot as plt"
   ]
  },
  {
   "cell_type": "code",
   "execution_count": null,
   "id": "062ee279-e800-4660-b0ae-954c19d0bca0",
   "metadata": {},
   "outputs": [],
   "source": [
    "plt.imshow(x_test[30])"
   ]
  },
  {
   "cell_type": "markdown",
   "id": "6cb46164-134e-4e37-8f84-a598810a4b72",
   "metadata": {},
   "source": [
    "Define keras model"
   ]
  },
  {
   "cell_type": "code",
   "execution_count": null,
   "id": "693a2909-583d-4a87-a5d8-0c42d2b897be",
   "metadata": {},
   "outputs": [],
   "source": [
    "model = tf.keras.models.Sequential([\n",
    "  tf.keras.layers.Flatten(input_shape=(28, 28)),\n",
    "  tf.keras.layers.Dense(128, activation='relu'),\n",
    "  tf.keras.layers.Dropout(0.2),\n",
    "  tf.keras.layers.Dense(10, activation='softmax')\n",
    "])"
   ]
  },
  {
   "cell_type": "markdown",
   "id": "7dfc74e4-58ab-4950-ad84-6cbfee083460",
   "metadata": {},
   "source": [
    "Compile then train and evaluate the model"
   ]
  },
  {
   "cell_type": "code",
   "execution_count": null,
   "id": "db4928e6-2f54-4f4a-8e5d-e1a01f5539cf",
   "metadata": {},
   "outputs": [],
   "source": [
    "model.compile(optimizer='adam',\n",
    "              loss='sparse_categorical_crossentropy',\n",
    "              metrics=['accuracy'])\n"
   ]
  },
  {
   "cell_type": "code",
   "execution_count": null,
   "id": "3cfb1483-ca2d-48f6-9862-99147967560c",
   "metadata": {},
   "outputs": [],
   "source": [
    "model.fit(x_train, y_train, epochs=5)\n",
    "model.evaluate(x_test, y_test)"
   ]
  },
  {
   "cell_type": "code",
   "execution_count": null,
   "id": "7a16d14d-dc34-4ab7-bc17-103b5b24810e",
   "metadata": {},
   "outputs": [],
   "source": [
    "import numpy as np"
   ]
  },
  {
   "cell_type": "code",
   "execution_count": null,
   "id": "49a3786d-a1c8-4f53-b27b-4dc35bc4cea1",
   "metadata": {},
   "outputs": [],
   "source": [
    "np.argmax(model.predict(np.reshape(x_test[30],(1,28,28))))"
   ]
  },
  {
   "cell_type": "code",
   "execution_count": null,
   "id": "67cf7322-18ad-40df-a7a4-a9726aabab11",
   "metadata": {},
   "outputs": [],
   "source": [
    "!nvidia-smi"
   ]
  },
  {
   "cell_type": "code",
   "execution_count": null,
   "id": "3764a5b6-3f04-463b-ad69-53d88a054b11",
   "metadata": {},
   "outputs": [],
   "source": [
    "!cat /proc/cpuinfo"
   ]
  },
  {
   "cell_type": "code",
   "execution_count": null,
   "id": "1461b10b-559e-4711-8636-8fb93f28e3fe",
   "metadata": {},
   "outputs": [],
   "source": []
  }
 ],
 "metadata": {
  "kernelspec": {
   "display_name": "tf-plt:Python",
   "language": "python",
   "name": "conda-env-tf-plt-py"
  },
  "language_info": {
   "codemirror_mode": {
    "name": "ipython",
    "version": 3
   },
   "file_extension": ".py",
   "mimetype": "text/x-python",
   "name": "python",
   "nbconvert_exporter": "python",
   "pygments_lexer": "ipython3",
   "version": "3.9.10"
  }
 },
 "nbformat": 4,
 "nbformat_minor": 5
}
